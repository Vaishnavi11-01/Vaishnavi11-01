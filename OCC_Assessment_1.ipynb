{
  "nbformat": 4,
  "nbformat_minor": 0,
  "metadata": {
    "colab": {
      "provenance": []
    },
    "kernelspec": {
      "name": "python3",
      "display_name": "Python 3"
    },
    "language_info": {
      "name": "python"
    }
  },
  "cells": [
    {
      "cell_type": "markdown",
      "source": [
        "Task 1: Read the data into RDD\n",
        "\n"
      ],
      "metadata": {
        "id": "i2adFMVsfUib"
      }
    },
    {
      "cell_type": "code",
      "execution_count": null,
      "metadata": {
        "colab": {
          "base_uri": "https://localhost:8080/"
        },
        "id": "OE-dopgcWPN9",
        "outputId": "eeb2ea7f-0a97-4c27-dd5e-f1f803afcdf1"
      },
      "outputs": [
        {
          "output_type": "stream",
          "name": "stdout",
          "text": [
            "Requirement already satisfied: pyspark in /usr/local/lib/python3.12/dist-packages (3.5.1)\n",
            "Requirement already satisfied: py4j==0.10.9.7 in /usr/local/lib/python3.12/dist-packages (from pyspark) (0.10.9.7)\n"
          ]
        }
      ],
      "source": [
        "!pip install pyspark"
      ]
    },
    {
      "cell_type": "code",
      "source": [
        "from pyspark import SparkConf, SparkContext\n",
        "import csv"
      ],
      "metadata": {
        "id": "IK35-0rzXvmi"
      },
      "execution_count": null,
      "outputs": []
    },
    {
      "cell_type": "code",
      "source": [
        "lines = sc.textFile(\"/content/EPL.csv\")\n"
      ],
      "metadata": {
        "id": "LSn095c3e3e-"
      },
      "execution_count": null,
      "outputs": []
    },
    {
      "cell_type": "code",
      "source": [
        "header = lines.first()\n",
        "data = lines.filter(lambda row: row != header)"
      ],
      "metadata": {
        "id": "2k4i-cfzfLyp"
      },
      "execution_count": null,
      "outputs": []
    },
    {
      "cell_type": "code",
      "source": [
        "def parse(line):\n",
        "    return next(csv.reader([line]))\n",
        "\n",
        "rdd = data.map(parse)"
      ],
      "metadata": {
        "id": "1W-xIpv9fPxE"
      },
      "execution_count": null,
      "outputs": []
    },
    {
      "cell_type": "code",
      "source": [
        "print(rdd.take(5))"
      ],
      "metadata": {
        "colab": {
          "base_uri": "https://localhost:8080/"
        },
        "id": "UT_Gm7-afS8X",
        "outputId": "dbc0d175-1be2-46d2-dca9-5796f9b94640"
      },
      "execution_count": null,
      "outputs": [
        {
          "output_type": "stream",
          "name": "stdout",
          "text": [
            "[['Sheffield United', 'Liverpool', '1.0', '1.0', 'D', '2006-2007'], ['Arsenal', 'Aston Villa', '1.0', '1.0', 'D', '2006-2007'], ['Everton', 'Watford', '2.0', '1.0', 'H', '2006-2007'], ['Newcastle United', 'Wigan Athletic', '2.0', '1.0', 'H', '2006-2007'], ['Portsmouth', 'Blackburn Rovers', '3.0', '0.0', 'H', '2006-2007']]\n"
          ]
        }
      ]
    },
    {
      "cell_type": "markdown",
      "source": [
        "Task 2:Which season has the highest number of goals"
      ],
      "metadata": {
        "id": "oxBJsE-5fYad"
      }
    },
    {
      "cell_type": "code",
      "source": [
        "def is_float(x):\n",
        "    try:\n",
        "        float(x)\n",
        "        return True\n",
        "    except:\n",
        "        return False"
      ],
      "metadata": {
        "id": "7pDppu2rizhp"
      },
      "execution_count": null,
      "outputs": []
    },
    {
      "cell_type": "code",
      "source": [
        "season_goals = rdd.filter(lambda row: is_float(row[2]) and is_float(row[3])) \\\n",
        "                  .map(lambda row: (row[5], float(row[2]) + float(row[3]))) \\\n",
        "                  .reduceByKey(lambda x, y: x + y)\n"
      ],
      "metadata": {
        "id": "3EOY79oki2sq"
      },
      "execution_count": null,
      "outputs": []
    },
    {
      "cell_type": "code",
      "source": [
        "highest_season = season_goals.takeOrdered(1, key=lambda x: -x[1])\n",
        "print(\"Season with highest goals:\", highest_season[0])"
      ],
      "metadata": {
        "colab": {
          "base_uri": "https://localhost:8080/"
        },
        "id": "KhvBkveIi51_",
        "outputId": "e7ec74ba-7556-47d1-dd7f-ff3e394b0ac2"
      },
      "execution_count": null,
      "outputs": [
        {
          "output_type": "stream",
          "name": "stdout",
          "text": [
            "Season with highest goals: ('2011-2012', 1066.0)\n"
          ]
        }
      ]
    },
    {
      "cell_type": "markdown",
      "source": [
        "Task 3:Season with lowest number of goals"
      ],
      "metadata": {
        "id": "-c2abx1Cjy4c"
      }
    },
    {
      "cell_type": "code",
      "source": [
        "lowest_season = season_goals.takeOrdered(1, key=lambda x: x[1])\n",
        "print(\"Season with lowest goals:\", lowest_season[0])"
      ],
      "metadata": {
        "colab": {
          "base_uri": "https://localhost:8080/"
        },
        "id": "kpaVJj--j1Sl",
        "outputId": "5e8cb62b-9af7-427f-e3d3-7bfb25b2527a"
      },
      "execution_count": null,
      "outputs": [
        {
          "output_type": "stream",
          "name": "stdout",
          "text": [
            "Season with lowest goals: ('2006-2007', 931.0)\n"
          ]
        }
      ]
    },
    {
      "cell_type": "markdown",
      "source": [
        "Task 4:Team with highest average goals per season"
      ],
      "metadata": {
        "id": "ytWEnY3ekiUx"
      }
    },
    {
      "cell_type": "code",
      "source": [
        "team_season_goals = rdd.filter(lambda row: is_float(row[2]) and is_float(row[3])) \\\n",
        "    .flatMap(lambda row: [\n",
        "        ((row[0], row[5]), float(row[2])),  # Home team goals\n",
        "        ((row[1], row[5]), float(row[3]))   # Away team goals\n",
        "    ]) \\\n",
        "    .reduceByKey(lambda x, y: x + y)"
      ],
      "metadata": {
        "id": "Z-xyLbVrkhpR"
      },
      "execution_count": null,
      "outputs": []
    },
    {
      "cell_type": "code",
      "source": [
        "team_goals_by_season = team_season_goals.map(lambda x: (x[0][0], (x[1], 1))) \\\n",
        "    .reduceByKey(lambda a, b: (a[0] + b[0], a[1] + b[1]))"
      ],
      "metadata": {
        "id": "hmXaV0OSk90F"
      },
      "execution_count": null,
      "outputs": []
    },
    {
      "cell_type": "code",
      "source": [
        "team_avg_goals = team_goals_by_season.mapValues(lambda x: x[0] / x[1])"
      ],
      "metadata": {
        "id": "YpO0dF-ZlAzI"
      },
      "execution_count": null,
      "outputs": []
    },
    {
      "cell_type": "code",
      "source": [
        "best_team = team_avg_goals.takeOrdered(1, key=lambda x: -x[1])"
      ],
      "metadata": {
        "id": "snum9-lrlDlr"
      },
      "execution_count": null,
      "outputs": []
    },
    {
      "cell_type": "code",
      "source": [
        "print(\"Team with highest average goals per season:\", best_team[0])"
      ],
      "metadata": {
        "colab": {
          "base_uri": "https://localhost:8080/"
        },
        "id": "dl6EfmnplG0p",
        "outputId": "5d5ab72a-2263-49f7-fe4d-91f29f2bef1d"
      },
      "execution_count": null,
      "outputs": [
        {
          "output_type": "stream",
          "name": "stdout",
          "text": [
            "Team with highest average goals per season: ('Manchester United', 72.25)\n"
          ]
        }
      ]
    },
    {
      "cell_type": "markdown",
      "source": [
        "Task 5:Probabilities of Manchester United Wins, Draws, and Losses"
      ],
      "metadata": {
        "id": "LSAAHtkglSWR"
      }
    },
    {
      "cell_type": "code",
      "source": [
        "# Filter matches involving Manchester United\n",
        "mu_matches = rdd.filter(lambda row: row[0] == \"Manchester United\" or row[1] == \"Manchester United\")"
      ],
      "metadata": {
        "id": "jLGHrqWXnJQu"
      },
      "execution_count": null,
      "outputs": []
    },
    {
      "cell_type": "code",
      "source": [
        "# Map results: (result, 1)\n",
        "mu_results = mu_matches.map(lambda row: (\n",
        "    \"Win\" if (row[0] == \"Manchester United\" and row[4] == \"H\") or (row[1] == \"Manchester United\" and row[4] == \"A\")\n",
        "    else \"Loss\" if (row[0] == \"Manchester United\" and row[4] == \"A\") or (row[1] == \"Manchester United\" and row[4] == \"H\")\n",
        "    else \"Draw\",\n",
        "    1\n",
        "))\n"
      ],
      "metadata": {
        "id": "M7JHtIbtnPAB"
      },
      "execution_count": null,
      "outputs": []
    },
    {
      "cell_type": "code",
      "source": [
        "# Count results\n",
        "mu_counts = mu_results.reduceByKey(lambda x, y: x + y).collectAsMap()"
      ],
      "metadata": {
        "id": "NiJxr5xInR8u"
      },
      "execution_count": null,
      "outputs": []
    },
    {
      "cell_type": "code",
      "source": [
        "# Total matches\n",
        "total_matches = sum(mu_counts.values())\n"
      ],
      "metadata": {
        "id": "UrgJhE6DnVjf"
      },
      "execution_count": null,
      "outputs": []
    },
    {
      "cell_type": "code",
      "source": [
        "# Probabilities\n",
        "p_win = mu_counts.get(\"Win\", 0) / total_matches\n",
        "p_loss = mu_counts.get(\"Loss\", 0) / total_matches\n",
        "p_draw = mu_counts.get(\"Draw\", 0) / total_matches\n",
        "\n",
        "print(\"P(Manchester United Wins):\", p_win)\n",
        "print(\"P(Manchester United Loses):\", p_loss)\n",
        "print(\"P(Manchester United Draws):\", p_draw)"
      ],
      "metadata": {
        "colab": {
          "base_uri": "https://localhost:8080/"
        },
        "id": "jaOeNZw2nYBT",
        "outputId": "9fd41a29-f62d-4b59-eb90-03d8f007349f"
      },
      "execution_count": null,
      "outputs": [
        {
          "output_type": "stream",
          "name": "stdout",
          "text": [
            "P(Manchester United Wins): 0.6359649122807017\n",
            "P(Manchester United Loses): 0.16885964912280702\n",
            "P(Manchester United Draws): 0.19517543859649122\n"
          ]
        }
      ]
    }
  ]
}